{
 "cells": [
  {
   "cell_type": "code",
   "execution_count": 6,
   "id": "657cd54d-040d-4132-ba3a-19de23b24eb0",
   "metadata": {},
   "outputs": [
    {
     "name": "stdout",
     "output_type": "stream",
     "text": [
      "Requirement already satisfied: cuda-python in /home/arnis/miniconda3/lib/python3.12/site-packages (12.9.0)\n",
      "Requirement already satisfied: cuda-bindings~=12.9.0 in /home/arnis/miniconda3/lib/python3.12/site-packages (from cuda-python) (12.9.0)\n"
     ]
    }
   ],
   "source": [
    "!pip install --upgrade cuda-python"
   ]
  },
  {
   "cell_type": "code",
   "execution_count": 7,
   "id": "890ba99f-1b9f-4662-91e6-4d2e5c915c27",
   "metadata": {},
   "outputs": [
    {
     "name": "stdout",
     "output_type": "stream",
     "text": [
      "Device Name:                         NVIDIA GeForce RTX 4070 SUPER                                                                \n",
      "Maximum number of multiprocessors:   56\n",
      "Maximum number of threads per block: 1024\n",
      "Maximum number of blocks per grid:   1024\n",
      "Maximum number of threads per grid:  2147483647\n"
     ]
    }
   ],
   "source": [
    "from cuda.bindings.driver import CUdevice_attribute, cuDeviceGetAttribute, cuDeviceGetName, cuInit\n",
    "\n",
    "# Initialize CUDA Driver API\n",
    "(err,) = cuInit(0)\n",
    "\n",
    "# Get attributes\n",
    "err, DEVICE_NAME = cuDeviceGetName(128, 0)\n",
    "DEVICE_NAME = DEVICE_NAME.decode(\"ascii\").replace(\"\\x00\", \"\")\n",
    "\n",
    "err, MAX_THREADS_PER_BLOCK = cuDeviceGetAttribute(\n",
    "    CUdevice_attribute.CU_DEVICE_ATTRIBUTE_MAX_THREADS_PER_BLOCK, 0\n",
    ")\n",
    "err, MAX_BLOCK_DIM_X = cuDeviceGetAttribute(\n",
    "    CUdevice_attribute.CU_DEVICE_ATTRIBUTE_MAX_BLOCK_DIM_X, 0\n",
    ")\n",
    "err, MAX_GRID_DIM_X = cuDeviceGetAttribute(\n",
    "    CUdevice_attribute.CU_DEVICE_ATTRIBUTE_MAX_GRID_DIM_X, 0\n",
    ")\n",
    "err, SMs = cuDeviceGetAttribute(\n",
    "    CUdevice_attribute.CU_DEVICE_ATTRIBUTE_MULTIPROCESSOR_COUNT, 0\n",
    ")\n",
    "\n",
    "print(f\"Device Name:                         {DEVICE_NAME}\")\n",
    "print(f\"Maximum number of multiprocessors:   {SMs}\")\n",
    "print(f\"Maximum number of threads per block: {MAX_THREADS_PER_BLOCK}\")\n",
    "print(f\"Maximum number of blocks per grid:   {MAX_BLOCK_DIM_X}\")\n",
    "print(f\"Maximum number of threads per grid:  {MAX_GRID_DIM_X}\")"
   ]
  }
 ],
 "metadata": {
  "kernelspec": {
   "display_name": "Python [conda env:base] *",
   "language": "python",
   "name": "conda-base-py"
  },
  "language_info": {
   "codemirror_mode": {
    "name": "ipython",
    "version": 3
   },
   "file_extension": ".py",
   "mimetype": "text/x-python",
   "name": "python",
   "nbconvert_exporter": "python",
   "pygments_lexer": "ipython3",
   "version": "3.12.2"
  }
 },
 "nbformat": 4,
 "nbformat_minor": 5
}

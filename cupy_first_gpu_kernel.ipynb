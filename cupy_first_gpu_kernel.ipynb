{
 "cells": [
  {
   "cell_type": "markdown",
   "id": "c466de60-ffc9-423e-b984-d9a544103f2d",
   "metadata": {},
   "source": [
    "Given two input vectors of the same size, stores the sum of the corresponding elements of the two input vectors into a third one."
   ]
  },
  {
   "cell_type": "code",
   "execution_count": null,
   "id": "09b44021-c028-4209-8d6f-63d8f9535f64",
   "metadata": {},
   "outputs": [],
   "source": [
    "def vector_add(A, B, C, size):\n",
    "    for item in range(0, size):\n",
    "        C[item] = A[item] + B[item]"
   ]
  },
  {
   "cell_type": "markdown",
   "id": "030b1ec6-a648-430a-945f-e1b99aa736c6",
   "metadata": {},
   "source": [
    "# Running Code on the GPU with CuPy"
   ]
  },
  {
   "cell_type": "code",
   "execution_count": null,
   "id": "68530301-1649-4bed-b384-ba1c8d33f6c7",
   "metadata": {
    "jupyter": {
     "source_hidden": true
    }
   },
   "outputs": [],
   "source": [
    "import cupy\n",
    "\n",
    "# size of the vectors\n",
    "size = 1024\n",
    "\n",
    "# allocating and populating the vectors\n",
    "a_gpu = cupy.random.rand(size, dtype=cupy.float32)\n",
    "b_gpu = cupy.random.rand(size, dtype=cupy.float32)\n",
    "c_gpu = cupy.zeros(size, dtype=cupy.float32)\n",
    "\n",
    "# CUDA vector_add\n",
    "vector_add_cuda_code = r'''\n",
    "extern \"C\"\n",
    "__global__ void vector_add(const float * A, const float * B, float * C, const int size)\n",
    "{\n",
    "    int item = threadIdx.x;\n",
    "    C[item] = A[item] + B[item];\n",
    "}\n",
    "'''\n",
    "vector_add_gpu = cupy.RawKernel(vector_add_cuda_code, \"vector_add\")\n",
    "\n",
    "vector_add_gpu((1, 1, 1), (size, 1, 1), (a_gpu, b_gpu, c_gpu, size))"
   ]
  },
  {
   "cell_type": "code",
   "execution_count": null,
   "id": "3e223888-ef50-4617-a9c5-1ff15e407540",
   "metadata": {},
   "outputs": [],
   "source": [
    "import numpy as np\n",
    "\n",
    "a_cpu = cupy.asnumpy(a_gpu)\n",
    "b_cpu = cupy.asnumpy(b_gpu)\n",
    "c_cpu = np.zeros(size, dtype=np.float32)\n",
    "\n",
    "vector_add(a_cpu, b_cpu, c_cpu, size)\n",
    "\n",
    "# test\n",
    "if np.allclose(c_cpu, c_gpu):\n",
    "    print(\"Correct results!\")"
   ]
  },
  {
   "cell_type": "markdown",
   "id": "de0ec75e-2317-467c-9c7e-386c8dbeeaa6",
   "metadata": {},
   "source": [
    "# Vectors of Arbitrary Size"
   ]
  },
  {
   "cell_type": "code",
   "execution_count": null,
   "id": "b885ae54-ebf6-4417-89a8-a89edc95e07e",
   "metadata": {},
   "outputs": [],
   "source": [
    "import math\n",
    "\n",
    "vector_add_cuda_code = r'''\n",
    "extern \"C\"\n",
    "__global__ void vector_add(const float * A, const float * B, float * C, const int size)\n",
    "{\n",
    "   int item = (blockIdx.x * blockDim.x) + threadIdx.x;\n",
    "   if ( item < size )\n",
    "   {\n",
    "      C[item] = A[item] + B[item];\n",
    "   }\n",
    "}\n",
    "'''\n",
    "vector_add_gpu = cupy.RawKernel(vector_add_cuda_code, \"vector_add\")\n",
    "\n",
    "threads_per_block = 1024\n",
    "grid_size = (int(math.ceil(size / threads_per_block)), 1, 1)\n",
    "block_size = (threads_per_block, 1, 1)\n",
    "\n",
    "vector_add_gpu(grid_size, block_size, (a_gpu, b_gpu, c_gpu, size))\n",
    "\n",
    "if np.allclose(c_cpu, c_gpu):\n",
    "    print(\"Correct results!\")\n",
    "else:\n",
    "    print(\"Wrong results!\")"
   ]
  }
 ],
 "metadata": {
  "kernelspec": {
   "display_name": "Python [conda env:base] *",
   "language": "python",
   "name": "conda-base-py"
  },
  "language_info": {
   "codemirror_mode": {
    "name": "ipython",
    "version": 3
   },
   "file_extension": ".py",
   "mimetype": "text/x-python",
   "name": "python",
   "nbconvert_exporter": "python",
   "pygments_lexer": "ipython3",
   "version": "3.12.2"
  }
 },
 "nbformat": 4,
 "nbformat_minor": 5
}

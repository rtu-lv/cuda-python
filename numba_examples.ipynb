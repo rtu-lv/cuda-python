{
 "cells": [
  {
   "cell_type": "markdown",
   "id": "3b0994b3-8e33-4d07-8953-36ce841e2106",
   "metadata": {},
   "source": [
    "# Example: Add scalars"
   ]
  },
  {
   "cell_type": "code",
   "execution_count": null,
   "id": "07789551-238f-4e63-a350-3ee947257090",
   "metadata": {},
   "outputs": [],
   "source": [
    "import numpy as np\n",
    "\n",
    "import numba\n",
    "from numba import cuda\n",
    "\n",
    "@cuda.jit\n",
    "def add_scalars(a, b, c):\n",
    "    c[0] = a + b"
   ]
  },
  {
   "cell_type": "code",
   "execution_count": null,
   "id": "4dc957d1-4dc4-4361-8d09-50239adaa8ba",
   "metadata": {},
   "outputs": [],
   "source": [
    "dev_c = cuda.device_array((1,), np.float32)\n",
    "\n",
    "add_scalars[1, 1](2.0, 7.0, dev_c)\n",
    "\n",
    "c = dev_c.copy_to_host()\n",
    "print(f\"2.0 + 7.0 = {c[0]}\")"
   ]
  },
  {
   "cell_type": "markdown",
   "id": "c0223ec3-d1b4-4ccc-afeb-e8f6bbde70c6",
   "metadata": {},
   "source": [
    "# Example: Add arrays"
   ]
  },
  {
   "cell_type": "code",
   "execution_count": null,
   "id": "d45320a4-a0f3-4276-89d7-4a8a3e891cce",
   "metadata": {},
   "outputs": [],
   "source": [
    "@cuda.jit\n",
    "def add_array(a, b, c):\n",
    "    i = cuda.threadIdx.x + cuda.blockDim.x * cuda.blockIdx.x\n",
    "    if i < a.size:\n",
    "        c[i] = a[i] + b[i]"
   ]
  },
  {
   "cell_type": "code",
   "execution_count": null,
   "id": "9299d99d-06e6-477b-acf2-fe03a59cb88f",
   "metadata": {},
   "outputs": [],
   "source": [
    "N = 20\n",
    "a = np.arange(N, dtype=np.float32)\n",
    "b = np.arange(N, dtype=np.float32)\n",
    "dev_c = cuda.device_array_like(a)\n",
    "\n",
    "add_array[4, 8](a, b, dev_c)\n",
    "\n",
    "c = dev_c.copy_to_host()\n",
    "print(c)"
   ]
  },
  {
   "cell_type": "markdown",
   "id": "6b50a08e-82a3-4105-9a1f-ceefa8633399",
   "metadata": {},
   "source": [
    "# Example: Add arrays with cuda.grid"
   ]
  },
  {
   "cell_type": "code",
   "execution_count": null,
   "id": "7f95d128-26f3-4bcf-8866-ba5e48c9ff3e",
   "metadata": {},
   "outputs": [],
   "source": [
    "@cuda.jit\n",
    "def add_array(a, b, c):\n",
    "    i = cuda.grid(1)\n",
    "    if i < a.size:\n",
    "        c[i] = a[i] + b[i]"
   ]
  },
  {
   "cell_type": "code",
   "execution_count": null,
   "id": "03222a10-7e08-413c-82f3-6a6cedda0a3c",
   "metadata": {},
   "outputs": [],
   "source": [
    "dev_a = cuda.to_device(a)\n",
    "dev_b = cuda.to_device(b)\n",
    "\n",
    "add_array[4, 8](dev_a, dev_b, dev_c)\n",
    "\n",
    "c = dev_c.copy_to_host()\n",
    "print(c)"
   ]
  },
  {
   "cell_type": "markdown",
   "id": "00795cff-ac1e-4442-af5e-99bb8f4b1823",
   "metadata": {},
   "source": [
    "A \"reasonable\" number of threads for modern GPUs is 256."
   ]
  },
  {
   "cell_type": "code",
   "execution_count": null,
   "id": "e2370be0-323a-483b-87d3-0481c15f6af3",
   "metadata": {},
   "outputs": [],
   "source": [
    "N = 1_000_000\n",
    "a = np.arange(N, dtype=np.float32)\n",
    "b = np.arange(N, dtype=np.float32)\n",
    "\n",
    "dev_a = cuda.to_device(a)\n",
    "dev_b = cuda.to_device(b)\n",
    "dev_c = cuda.device_array_like(a)\n",
    "\n",
    "threads_per_block = 256\n",
    "blocks_per_grid = (N + (threads_per_block - 1)) // threads_per_block\n",
    "# Note that\n",
    "#     blocks_per_grid == ceil(N / threads_per_block)\n",
    "# ensures that blocks_per_grid * threads_per_block >= N\n",
    "\n",
    "add_array[blocks_per_grid, threads_per_block](dev_a, dev_b, dev_c)\n",
    "\n",
    "c = dev_c.copy_to_host()\n",
    "np.allclose(a + b, c)"
   ]
  },
  {
   "cell_type": "markdown",
   "id": "6babda3b-d81e-4e21-a009-f037b25eea2e",
   "metadata": {},
   "source": [
    "# Grid-stride loops\n",
    "\n",
    "In cases where the number of blocks per grid exceeds the hardware limit but the array fits in memory, instead of using one thread per array element, we can use one thread to process several elements. We will do so by using a technique called *grid-stride loops*. Besides overcoming hardware limitations, grid-stride loop kernels benefit from reusing threads, by minimizing thread creation/destruction overhead."
   ]
  },
  {
   "cell_type": "markdown",
   "id": "cd853a36-db02-469f-a36e-d0585d4f1cc2",
   "metadata": {},
   "source": [
    "## Example: Add arrays with grid striding"
   ]
  },
  {
   "cell_type": "code",
   "execution_count": null,
   "id": "deacbdbb-2afa-4554-94b0-80b5b15e1710",
   "metadata": {},
   "outputs": [],
   "source": [
    "@cuda.jit\n",
    "def add_array_gs(a, b, c):\n",
    "    i_start = cuda.grid(1)\n",
    "    threads_per_grid = cuda.blockDim.x * cuda.gridDim.x\n",
    "    for i in range(i_start, a.size, threads_per_grid):\n",
    "        c[i] = a[i] + b[i]"
   ]
  },
  {
   "cell_type": "code",
   "execution_count": null,
   "id": "6842e6df-cdca-42a5-b198-c4707060d3ec",
   "metadata": {},
   "outputs": [],
   "source": [
    "threads_per_block = 256\n",
    "blocks_per_grid_gs = 32 * 80  # Use 32 * multiple of streaming multiprocessors\n",
    "# 32 * 80 * 256 < 1_000_000 so one thread will process more than one array element\n",
    "\n",
    "add_array_gs[blocks_per_grid_gs, threads_per_block](dev_a, dev_b, dev_c)\n",
    "c = dev_c.copy_to_host()\n",
    "np.allclose(a + b, c)"
   ]
  },
  {
   "cell_type": "markdown",
   "id": "3d1abef1-b8e8-4de8-aac8-f1e055787b52",
   "metadata": {},
   "source": [
    "# A 2D Example"
   ]
  },
  {
   "cell_type": "markdown",
   "id": "ab82f102-a208-45d4-8f1b-5cea6b980345",
   "metadata": {},
   "source": [
    "To end this tutorial, let's craft a 2D kernel to apply [logarithmic correction](https://scikit-image.org/docs/stable/api/skimage.exposure.html#skimage.exposure.adjust_log) to an image.\n",
    "\n",
    "Given an image $I(x, y)$ with values between 0 and 1, the log-corrected image is given by\n",
    "\n",
    "$$I_c(x, y) = \\gamma \\log_2 (1 + I(x, y))$$"
   ]
  },
  {
   "cell_type": "code",
   "execution_count": null,
   "id": "2be4bf7e-4fc2-4316-9a61-ba770f6db0fb",
   "metadata": {},
   "outputs": [],
   "source": [
    "from skimage import data\n",
    "\n",
    "moon = data.moon().astype(np.float32) / 255."
   ]
  },
  {
   "cell_type": "code",
   "execution_count": null,
   "id": "29639e8a-9fc1-4649-ac70-57eff41d5099",
   "metadata": {
    "scrolled": true
   },
   "outputs": [],
   "source": [
    "import matplotlib.pyplot as plt\n",
    "\n",
    "fig, ax = plt.subplots()\n",
    "im = ax.imshow(moon, cmap=\"gist_earth\")\n",
    "ax.set_xticks([])\n",
    "ax.set_yticks([])\n",
    "ax.set_xticklabels([])\n",
    "ax.set_yticklabels([])\n",
    "fig.colorbar(im)\n",
    "fig.tight_layout()"
   ]
  },
  {
   "cell_type": "markdown",
   "id": "32ccd603-3c09-464a-99fc-17b82ce45f29",
   "metadata": {},
   "source": [
    "Let's write the kernel."
   ]
  },
  {
   "cell_type": "code",
   "execution_count": null,
   "id": "43f842c3-a286-446a-9b8f-3fb8d641c310",
   "metadata": {},
   "outputs": [],
   "source": [
    "import math\n",
    "\n",
    "# Example 1.5: 2D kernel\n",
    "@cuda.jit\n",
    "def adjust_log(inp, gain, out):\n",
    "    ix, iy = cuda.grid(2) # The first index is the fastest dimension\n",
    "    threads_per_grid_x, threads_per_grid_y = cuda.gridsize(2) #  threads per grid dimension\n",
    "    \n",
    "    n0, n1 = inp.shape # The last index is the fastest dimension\n",
    "    # Stride each dimension independently\n",
    "    for i0 in range(iy, n0, threads_per_grid_y):\n",
    "        for i1 in range(ix, n1, threads_per_grid_x):\n",
    "            out[i0, i1] = gain * math.log2(1 + inp[i0, i1])"
   ]
  },
  {
   "cell_type": "code",
   "execution_count": null,
   "id": "404c64c1-9c86-4088-88bf-2d0791095a41",
   "metadata": {},
   "outputs": [],
   "source": [
    "threads_per_block_2d = (16, 16)  #  256 threads total\n",
    "blocks_per_grid_2d = (64, 64)"
   ]
  },
  {
   "cell_type": "code",
   "execution_count": null,
   "id": "dcd1b933-fb7e-4028-b7f2-d84fae9b3ac3",
   "metadata": {},
   "outputs": [],
   "source": [
    "moon_gpu = cuda.to_device(moon)\n",
    "moon_corr_gpu = cuda.device_array_like(moon_gpu)\n",
    "\n",
    "adjust_log[blocks_per_grid_2d, threads_per_block_2d](moon_gpu, 1.0, moon_corr_gpu)\n",
    "moon_corr = moon_corr_gpu.copy_to_host()"
   ]
  },
  {
   "cell_type": "code",
   "execution_count": null,
   "id": "de356dbc-ce1f-4fd5-adb0-68e2b6f73dd7",
   "metadata": {},
   "outputs": [],
   "source": [
    "fig, (ax1, ax2) = plt.subplots(1, 2)\n",
    "ax1.imshow(moon, cmap=\"gist_earth\")\n",
    "ax2.imshow(moon_corr, cmap=\"gist_earth\")\n",
    "ax1.set(title=\"Original image\")\n",
    "ax2.set(title=\"Log-corrected image\")\n",
    "for ax in (ax1, ax2):\n",
    "    ax.set_xticks([])\n",
    "    ax.set_yticks([])\n",
    "    ax.set_xticklabels([])\n",
    "    ax.set_yticklabels([])\n",
    "fig.tight_layout()"
   ]
  },
  {
   "cell_type": "code",
   "execution_count": null,
   "id": "a50f2681-309b-4521-a8a7-de9d069e7dbc",
   "metadata": {},
   "outputs": [],
   "source": []
  }
 ],
 "metadata": {
  "kernelspec": {
   "display_name": "Python [conda env:base] *",
   "language": "python",
   "name": "conda-base-py"
  },
  "language_info": {
   "codemirror_mode": {
    "name": "ipython",
    "version": 3
   },
   "file_extension": ".py",
   "mimetype": "text/x-python",
   "name": "python",
   "nbconvert_exporter": "python",
   "pygments_lexer": "ipython3",
   "version": "3.12.2"
  }
 },
 "nbformat": 4,
 "nbformat_minor": 5
}

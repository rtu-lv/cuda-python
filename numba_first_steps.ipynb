{
 "cells": [
  {
   "cell_type": "markdown",
   "id": "f7cc3d57-553a-492d-a551-f0dbcdd2609b",
   "metadata": {},
   "source": [
    "# Getting started\n",
    "\n",
    "We will start by setting up our environment: a Numba and a supported GPU."
   ]
  },
  {
   "cell_type": "code",
   "execution_count": null,
   "id": "3782ff95-2818-4572-9ca7-75deb1338ec4",
   "metadata": {},
   "outputs": [],
   "source": [
    "!pip install --upgrade numba"
   ]
  },
  {
   "cell_type": "markdown",
   "id": "b862b51e-f85b-4f4a-945e-f424a8771130",
   "metadata": {},
   "source": [
    "# Environment Check\n",
    "\n",
    "First, ensure that Numba can interact with CUDA on your system:"
   ]
  },
  {
   "cell_type": "code",
   "execution_count": null,
   "id": "0f00cab3-8ba4-40a6-a22b-edae449b6010",
   "metadata": {
    "scrolled": true
   },
   "outputs": [],
   "source": [
    "import numpy as np\n",
    "\n",
    "import numba\n",
    "from numba import cuda\n",
    "\n",
    "print(np.__version__)\n",
    "print(numba.__version__)"
   ]
  },
  {
   "cell_type": "code",
   "execution_count": null,
   "id": "8112f886-1489-4c9d-955b-267f0132759f",
   "metadata": {
    "scrolled": true
   },
   "outputs": [],
   "source": [
    "cuda.detect()"
   ]
  },
  {
   "cell_type": "markdown",
   "id": "1fba2d66-8201-49b7-a1cb-979950836d80",
   "metadata": {},
   "source": [
    "# Writing Your First CUDA Kernel\n",
    "\n",
    "Let's start by creating a simple kernel to perform grayscale conversion on an image.\n",
    "\n",
    "Import libraries:"
   ]
  },
  {
   "cell_type": "code",
   "execution_count": null,
   "id": "c9b253e4-6238-4b1d-8b05-5ffe3d54e9c6",
   "metadata": {},
   "outputs": [],
   "source": [
    "import numpy as np\n",
    "import numba.cuda as cuda\n",
    "from skimage import io\n",
    "import matplotlib.pyplot as plt"
   ]
  },
  {
   "cell_type": "markdown",
   "id": "a7ba81b9-9518-4492-b655-bbebfbdb306f",
   "metadata": {},
   "source": [
    "## Load an Image"
   ]
  },
  {
   "cell_type": "code",
   "execution_count": null,
   "id": "0c0a0d4f-241d-4225-8181-14d531b65d24",
   "metadata": {},
   "outputs": [],
   "source": [
    "image = io.imread('EPFL_aereal.jpeg')\n",
    "plt.imshow(image)\n",
    "plt.title('Original Image')\n",
    "plt.show()"
   ]
  },
  {
   "cell_type": "markdown",
   "id": "f16e0aa1-d3b0-49f0-99b2-0dda6e7d4e43",
   "metadata": {},
   "source": [
    "## Grayscale Conversion Kernel \n",
    "This kernel converts an RGB image to grayscale by applying the luminosity method."
   ]
  },
  {
   "cell_type": "code",
   "execution_count": null,
   "id": "e53ae95d-3d32-4e40-add3-787eb3f87f52",
   "metadata": {},
   "outputs": [],
   "source": [
    "@cuda.jit\n",
    "def rgb2gray_kernel(d_result, d_image):\n",
    "    x, y = cuda.grid(2)\n",
    "    if x < d_image.shape[0] and y < d_image.shape[1]:\n",
    "        r, g, b = d_image[x, y]\n",
    "        # Luminosity method: 0.21 R + 0.72 G + 0.07 B\n",
    "        gray = 0.21 * r + 0.72 * g + 0.07 * b\n",
    "        d_result[x, y] = gray"
   ]
  },
  {
   "cell_type": "markdown",
   "id": "299e6b71-5fee-4e9e-b112-da30ff21052c",
   "metadata": {},
   "source": [
    "## Memory Management\n",
    "\n",
    "Transfer data to the GPU."
   ]
  },
  {
   "cell_type": "code",
   "execution_count": null,
   "id": "73eff08f-22c3-4a71-992c-2132b5bfd8d7",
   "metadata": {},
   "outputs": [],
   "source": [
    "d_image = cuda.to_device(image)\n",
    "d_result = cuda.device_array(image.shape[:2], dtype=np.uint8)"
   ]
  },
  {
   "cell_type": "markdown",
   "id": "16e9d5f9-3a54-4b89-8e2d-850f7645768f",
   "metadata": {},
   "source": [
    "## Kernel Invocation\n",
    "\n",
    "Define the size of blocks and grid."
   ]
  },
  {
   "cell_type": "code",
   "execution_count": null,
   "id": "7b611c89-a7c8-4b5b-92e1-cf433c64e901",
   "metadata": {},
   "outputs": [],
   "source": [
    "threadsperblock = (16, 16)\n",
    "blockspergrid_x = int(np.ceil(image.shape[0] / threadsperblock[0]))\n",
    "blockspergrid_y = int(np.ceil(image.shape[1] / threadsperblock[1]))\n",
    "blockspergrid = (blockspergrid_x, blockspergrid_y)\n",
    "\n",
    "rgb2gray_kernel[blockspergrid, threadsperblock](d_result, d_image)"
   ]
  },
  {
   "cell_type": "markdown",
   "id": "83404dab-fdbe-4a6d-958a-e50386cd4e85",
   "metadata": {},
   "source": [
    "## Retrieve Data from GPU"
   ]
  },
  {
   "cell_type": "code",
   "execution_count": null,
   "id": "fbf27f71-7e03-4745-8a80-4e7bbcc1e1f2",
   "metadata": {},
   "outputs": [],
   "source": [
    "grayscale_image = d_result.copy_to_host()\n",
    "plt.imshow(grayscale_image, cmap='gray')\n",
    "plt.title('Grayscale Image')\n",
    "plt.show()"
   ]
  },
  {
   "cell_type": "markdown",
   "id": "ee4702c2-df01-42f2-a9f9-ba9174a5787f",
   "metadata": {},
   "source": [
    "# Measuring Performance\n",
    "\n",
    "First, import the time module for CPU timing:"
   ]
  },
  {
   "cell_type": "code",
   "execution_count": null,
   "id": "261902dc-aa01-42ad-8e4b-4e24b2bda898",
   "metadata": {},
   "outputs": [],
   "source": [
    "import time"
   ]
  },
  {
   "cell_type": "markdown",
   "id": "5a123598-a19e-4aff-8390-866958c501a1",
   "metadata": {},
   "source": [
    "## CPU Grayscale Conversion\n",
    "\n",
    "Let’s implement a CPU version of the grayscale conversion to compare performance:"
   ]
  },
  {
   "cell_type": "code",
   "execution_count": null,
   "id": "ec48ecdf-152b-4ce1-a3fd-9f91cd07d7a5",
   "metadata": {},
   "outputs": [],
   "source": [
    "def rgb2gray_cpu(result, image):    \n",
    "    for i in range(image.shape[0]):\n",
    "        for j in range(image.shape[1]):\n",
    "            r, g, b = image[i, j]\n",
    "            result[i, j] = int(0.21 * r + 0.72 * g + 0.07 * b)\n",
    "    return result\n",
    "\n",
    "# Measure CPU time\n",
    "grayscale = np.zeros((image.shape[0], image.shape[1]), dtype=np.uint8)\n",
    "\n",
    "start_time = time.perf_counter()\n",
    "cpu_gray = rgb2gray_cpu(grayscale, image)\n",
    "cpu_time = time.perf_counter() - start_time\n",
    "\n",
    "plt.imshow(cpu_gray, cmap='gray')\n",
    "plt.title('CPU-processed Grayscale Image')\n",
    "plt.show()\n",
    "\n",
    "print(f\"CPU Time: {cpu_time:.5f} seconds\")"
   ]
  },
  {
   "cell_type": "code",
   "execution_count": null,
   "id": "85231c0b-024b-40bc-90da-8ff298014101",
   "metadata": {},
   "outputs": [],
   "source": [
    "def rgb2gray_cpu_numpy(result, image):    \n",
    "    result[...] = (0.21 * image[..., 0] + 0.72 * image[..., 1] + 0.07 * image[..., 2]).astype(int)\n",
    "    return result\n",
    "\n",
    "# Measure CPU Numpy time\n",
    "grayscale = np.zeros((image.shape[0], image.shape[1]), dtype=np.uint8)\n",
    "start_time = time.perf_counter()\n",
    "cpu_np_gray = rgb2gray_cpu_numpy(grayscale, image)\n",
    "cpu_np_time = time.perf_counter() - start_time\n",
    "\n",
    "print(f\"CPU Time (Numpy): {cpu_np_time:.5f} seconds\")"
   ]
  },
  {
   "cell_type": "markdown",
   "id": "9d35b246-50db-4044-a17b-873d76d1362e",
   "metadata": {},
   "source": [
    "## GPU Grayscale Conversion"
   ]
  },
  {
   "cell_type": "code",
   "execution_count": null,
   "id": "cc54682c-a685-4754-af10-a34d638309dd",
   "metadata": {},
   "outputs": [],
   "source": [
    "from numba import njit \n",
    "@njit\n",
    "def rgb2gray_numba(result, image):    \n",
    "    for i in range(image.shape[0]):\n",
    "        for j in range(image.shape[1]):\n",
    "            r, g, b = image[i, j]\n",
    "            result[i, j] = int(0.21 * r + 0.72 * g + 0.07 * b)\n",
    "    return result\n",
    "\n",
    "# Measure CPU Numba time\n",
    "grayscale = np.zeros((image.shape[0], image.shape[1]), dtype=np.uint8)\n",
    "\n",
    "cpu_gray = rgb2gray_numba(grayscale, image)\n",
    "start_time = time.perf_counter()\n",
    "cpu_gray = rgb2gray_numba(grayscale, image)\n",
    "cpu_numba_time = time.perf_counter() - start_time\n",
    "\n",
    "print(f\"CPU Time: {cpu_numba_time:.5f} seconds\")"
   ]
  },
  {
   "cell_type": "markdown",
   "id": "5cd44de0-43c5-46f6-97a8-da7ab901b2eb",
   "metadata": {},
   "source": [
    "## GPU Performance Measurement\n",
    "\n",
    "For GPU performance, we use Numba's CUDA event system to measure kernel execution time:"
   ]
  },
  {
   "cell_type": "code",
   "execution_count": null,
   "id": "7f58ee82-5e56-4f82-927b-98746be3375d",
   "metadata": {},
   "outputs": [],
   "source": [
    "start_event = cuda.event()\n",
    "end_event = cuda.event()\n",
    "\n",
    "start_event.record()\n",
    "rgb2gray_kernel[blockspergrid, threadsperblock](d_result, d_image)\n",
    "end_event.record()\n",
    "end_event.synchronize()  # Wait for the event to be executed!\n",
    "\n",
    "gpu_time = cuda.event_elapsed_time(start_event, end_event) / 1000.0  # Convert milliseconds to seconds\n",
    "print(f\"GPU Time: {gpu_time:.5f} seconds\")"
   ]
  },
  {
   "cell_type": "markdown",
   "id": "1235fd5b-0bb2-40a9-b2e9-277f2151e79d",
   "metadata": {},
   "source": [
    "Comparison Finally, let's compare the times:"
   ]
  },
  {
   "cell_type": "code",
   "execution_count": null,
   "id": "50d472f3-e10d-49ac-89f2-2e893ecffa26",
   "metadata": {},
   "outputs": [],
   "source": [
    "print(f\"Speedup: {cpu_time / gpu_time:.2f}x\")\n",
    "print(f\"Speedup: {cpu_numba_time / gpu_time:.2f}x\")"
   ]
  }
 ],
 "metadata": {
  "kernelspec": {
   "display_name": "Python [conda env:base] *",
   "language": "python",
   "name": "conda-base-py"
  },
  "language_info": {
   "codemirror_mode": {
    "name": "ipython",
    "version": 3
   },
   "file_extension": ".py",
   "mimetype": "text/x-python",
   "name": "python",
   "nbconvert_exporter": "python",
   "pygments_lexer": "ipython3",
   "version": "3.12.2"
  }
 },
 "nbformat": 4,
 "nbformat_minor": 5
}

{
 "cells": [
  {
   "cell_type": "code",
   "execution_count": null,
   "id": "e65bc5f7-f93c-44c4-aaba-eaa173f44957",
   "metadata": {},
   "outputs": [],
   "source": [
    "import cupy \n",
    "import numpy \n",
    "import math \n",
    "import matplotlib.pyplot as plt"
   ]
  },
  {
   "cell_type": "code",
   "execution_count": null,
   "id": "7b578b28-ccb1-4c08-a93b-05acb8670f9a",
   "metadata": {},
   "outputs": [],
   "source": [
    "cupy.__version__"
   ]
  },
  {
   "cell_type": "markdown",
   "id": "b0699f90-7a1a-4675-a987-627f1aaba548",
   "metadata": {},
   "source": [
    "#### Basic NumPy / CuPy implementation\n",
    "\n",
    "The implementation is using vectorization. Vectorization is a vertical scaling technique that uses a single CPU core or a GPU more effectively. \n",
    "\n",
    "Columnar approach can use vector units effectively because it's always applying the Same Instruction on Multiple Data (SIMD)."
   ]
  },
  {
   "cell_type": "code",
   "execution_count": null,
   "id": "7cb6e03e-50bb-4ec6-bdf7-91d180cd5ee6",
   "metadata": {},
   "outputs": [],
   "source": [
    "def prepare(height, width, numpy=numpy):     \n",
    "    y, x = numpy.ogrid[-1 : 0 : height * 1j, -1.5 : 0 : width * 1j]     \n",
    "    c = x + y * 1j     \n",
    "    fractal = numpy.zeros(c.shape, dtype=numpy.int32)     \n",
    "    return c, fractal\n",
    "\n",
    "def run(c, fractal, maxiterations=20):    \n",
    "    fractal *= 0  # set fractal to maxiterations without replacing it     \n",
    "    fractal += maxiterations     \n",
    "    z = c     \n",
    "    for i in range(maxiterations):         \n",
    "        z **= 2         \n",
    "        z += c         \n",
    "        diverge = z.real ** 2 + z.imag ** 2 > 2 ** 2         \n",
    "        z[diverge] = 2         \n",
    "        diverge &= fractal == maxiterations         \n",
    "        fractal[diverge] = i\n",
    "    return fractal"
   ]
  },
  {
   "cell_type": "markdown",
   "id": "46515cd9-4737-4788-8bd6-8f1fe6be6fa8",
   "metadata": {},
   "source": [
    "Executing exactly the same code: first with Numpy on the CPU, then with CuPy on the GPU."
   ]
  },
  {
   "cell_type": "code",
   "execution_count": null,
   "id": "2070ff83-0ec1-41ac-b0f5-beb6be12249d",
   "metadata": {},
   "outputs": [],
   "source": [
    "c, fractal = prepare(8000, 12000, numpy)"
   ]
  },
  {
   "cell_type": "code",
   "execution_count": null,
   "id": "0b2a3cf2-e2de-4801-9a3c-b09e6f328f62",
   "metadata": {},
   "outputs": [],
   "source": [
    "%%timeit \n",
    "_ = run(c, fractal)"
   ]
  },
  {
   "cell_type": "code",
   "execution_count": null,
   "id": "80133be8-8ca8-42a2-a52f-bd65b0c2dcc9",
   "metadata": {},
   "outputs": [],
   "source": [
    "c, fractal = prepare(8000, 12000, cupy)"
   ]
  },
  {
   "cell_type": "code",
   "execution_count": null,
   "id": "933e109a-4590-4dcc-b969-bb473b63abc0",
   "metadata": {},
   "outputs": [],
   "source": [
    "%%timeit \n",
    "_ = run(c, fractal) \n",
    "cupy.cuda.Stream.null.synchronize()"
   ]
  },
  {
   "cell_type": "markdown",
   "id": "a10bd0a8-1bf6-4400-9347-da6678e1d061",
   "metadata": {},
   "source": [
    "#### CuPy implementation using ElementwiseKernel"
   ]
  },
  {
   "cell_type": "code",
   "execution_count": null,
   "id": "dbb2ea8e-4507-4e4e-a5d7-734ce1ee2c96",
   "metadata": {},
   "outputs": [],
   "source": [
    "cupy_single = cupy.ElementwiseKernel(     \n",
    "    \"complex128 cpx, int32 maxiterations\",     \n",
    "    \"int32 res\",     \n",
    "    \"\"\"     \n",
    "    res = maxiterations;     \n",
    "    complex<double> z = cpx;\n",
    "    \n",
    "    for (int i=0; i<maxiterations; i++) {         \n",
    "        z = z*z + cpx;                  \n",
    "        if(z.real()*z.real() + z.imag()*z.imag() > 4) {             \n",
    "            res = i;             \n",
    "            break;         \n",
    "        }     \n",
    "    }          \n",
    "    \"\"\",     \n",
    "    \"fract_el\", \n",
    ")"
   ]
  },
  {
   "cell_type": "code",
   "execution_count": null,
   "id": "35d7fc8c-9ae4-4254-a67d-870eb960475a",
   "metadata": {},
   "outputs": [],
   "source": [
    "c, _ = prepare(8000, 12000, cupy)"
   ]
  },
  {
   "cell_type": "markdown",
   "id": "28df4eec-3d62-4098-b56d-adbfece75c90",
   "metadata": {},
   "source": [
    "Running the raw kernel using the single‐precision floating point arithmetic:"
   ]
  },
  {
   "cell_type": "code",
   "execution_count": null,
   "id": "6d7a2a5f-6d2e-47e5-8109-ee9ecf19733d",
   "metadata": {},
   "outputs": [],
   "source": [
    "%%timeit \n",
    "fractal = cupy_single(c, 20) \n",
    "cupy.cuda.Stream.null.synchronize()"
   ]
  },
  {
   "cell_type": "markdown",
   "id": "7d8d5aaf-29fc-478e-a2ee-06f75a25186f",
   "metadata": {},
   "source": [
    "#### CuPy implementation using RawKernel"
   ]
  },
  {
   "cell_type": "code",
   "execution_count": null,
   "id": "908af068-8ffb-4224-b3bd-d27dd27216a5",
   "metadata": {},
   "outputs": [],
   "source": [
    "cupy_kernel = cupy.RawKernel(     \n",
    "\"\"\" \n",
    "extern \"C\"  \n",
    "__global__ void fractal(double* c, int* fractal, int height, int width, int maxiterations) {     \n",
    "    const int x = threadIdx.x + blockIdx.x*blockDim.x;     \n",
    "    const int y = threadIdx.y + blockIdx.y*blockDim.y;     \n",
    "    double creal = c[2 * (x + height*y)];     \n",
    "    double cimag = c[2 * (x + height*y) + 1];     \n",
    "    double zreal = creal;     \n",
    "    double zimag = cimag;     \n",
    "    fractal[x + height*y] = maxiterations;     \n",
    "    for (int i = 0;  i < maxiterations;  i++) {         \n",
    "        double zreal2 = zreal*zreal - zimag*zimag + creal;         \n",
    "        double zimag2 = 2*zreal*zimag + cimag;         \n",
    "        zreal = zreal2;         zimag = zimag2;         \n",
    "        if (zreal*zreal + zimag*zimag > 4) {             \n",
    "            fractal[x + height*y] = i;             \n",
    "            break;         \n",
    "        }     \n",
    "    } \n",
    "} \n",
    "\"\"\",     \n",
    "\"fractal\", \n",
    ")"
   ]
  },
  {
   "cell_type": "code",
   "execution_count": null,
   "id": "9f64c9c0-d247-4fd2-9fdb-c56ca577ed8a",
   "metadata": {},
   "outputs": [],
   "source": [
    "def run_pycuda(height, width, maxiterations=20):     \n",
    "  y, x = cupy.ogrid[-1 : 0 : height * 1j, -1.5 : 0 : width * 1j]     \n",
    "  grid = (int(math.ceil(height / 32)), int(math.ceil(width / 32)))     \n",
    "  c = x + y * 1j     \n",
    "  fractal = cupy.empty(c.shape, dtype=cupy.int32) + maxiterations     \n",
    "  cupy_kernel(         \n",
    "      grid,         \n",
    "      (32, 32, 1),         \n",
    "      [             \n",
    "          c.view(cupy.double),             \n",
    "          fractal,             \n",
    "          cupy.int32(height),             \n",
    "          cupy.int32(width),             \n",
    "          cupy.int32(maxiterations),         \n",
    "      ],     \n",
    "  )     \n",
    "  return c, fractal"
   ]
  },
  {
   "cell_type": "markdown",
   "id": "2a156e2c-d1ea-48b7-bba8-ecaa51812342",
   "metadata": {},
   "source": [
    "Running the raw kernel using the double‐precision floating point arithmetic:"
   ]
  },
  {
   "cell_type": "code",
   "execution_count": null,
   "id": "dc64da12-4bc2-445e-905a-985b4d2af1c9",
   "metadata": {},
   "outputs": [],
   "source": [
    "%%timeit \n",
    "_, fractal = run_pycuda(8000, 12000) \n",
    "cupy.cuda.Stream.null.synchronize()"
   ]
  },
  {
   "cell_type": "markdown",
   "id": "84177836-44ca-49a3-9daa-c911f3bcb4a6",
   "metadata": {},
   "source": [
    "Output visualization with Matplotlib:"
   ]
  },
  {
   "cell_type": "code",
   "execution_count": null,
   "id": "4aaa29c5-c1cc-4e9b-8594-31f5999d4b82",
   "metadata": {},
   "outputs": [],
   "source": [
    "_, fractal = run_pycuda(8000, 12000) \n",
    "plt.imshow(fractal.get())"
   ]
  }
 ],
 "metadata": {
  "kernelspec": {
   "display_name": "Python [conda env:base] *",
   "language": "python",
   "name": "conda-base-py"
  },
  "language_info": {
   "codemirror_mode": {
    "name": "ipython",
    "version": 3
   },
   "file_extension": ".py",
   "mimetype": "text/x-python",
   "name": "python",
   "nbconvert_exporter": "python",
   "pygments_lexer": "ipython3",
   "version": "3.12.2"
  }
 },
 "nbformat": 4,
 "nbformat_minor": 5
}

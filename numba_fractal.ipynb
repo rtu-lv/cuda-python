{
 "cells": [
  {
   "cell_type": "code",
   "execution_count": null,
   "id": "6850dbf0-bfc1-4173-9eb7-ec9621c2dfc3",
   "metadata": {},
   "outputs": [],
   "source": [
    "import numba.cuda\n",
    "import math\n",
    "import numpy\n",
    "\n",
    "@numba.cuda.jit\n",
    "def as_cuda(c, fractal, maxiterations):\n",
    "    x, y = numba.cuda.grid(2)     # 2 dimensional CUDA grid\n",
    "    z = c[x, y]\n",
    "    fractal[x, y] = 20\n",
    "    for i in range(maxiterations):\n",
    "        z = z**2 + c[x, y]\n",
    "        if abs(z) > 2:\n",
    "            fractal[x, y] = i\n",
    "            break                 # not optimal: threads that leave the loop still have to wait\n",
    "\n",
    "def run_numba(height, width, maxiterations=20):\n",
    "    y, x = numpy.ogrid[-1:0:height*1j, -1.5:0:width*1j]\n",
    "    c = x + y*1j\n",
    "    fractal = numba.cuda.device_array(c.shape, dtype=numpy.int32)\n",
    "    as_cuda[(math.ceil(height / 32), math.ceil(width / 32)), (32, 32)](c, fractal, maxiterations)\n",
    "    return fractal"
   ]
  },
  {
   "cell_type": "markdown",
   "id": "be44d620-d48a-48a5-8c9a-a91bd26e6e9b",
   "metadata": {},
   "source": [
    "Numba doesn't suffer from the memory issue because it doesn't make as many intermediate copies."
   ]
  },
  {
   "cell_type": "code",
   "execution_count": null,
   "id": "99cb091f-0493-4171-9e35-bf12c55a17a3",
   "metadata": {},
   "outputs": [],
   "source": [
    "import time\n",
    "\n",
    "starttime = time.time()\n",
    "fractal = run_numba(4000, 6000)\n",
    "time.time() - starttime"
   ]
  },
  {
   "cell_type": "code",
   "execution_count": null,
   "id": "11ecb58b-e435-4c51-bcac-977539cf606c",
   "metadata": {},
   "outputs": [],
   "source": [
    "%matplotlib inline\n",
    "import matplotlib.pyplot as plt\n",
    "fig, ax = plt.subplots(figsize=(12, 8))\n",
    "ax.imshow(fractal)\n",
    "# ax.imshow(fractal[-2000:, :3000])"
   ]
  }
 ],
 "metadata": {
  "kernelspec": {
   "display_name": "Python [conda env:base] *",
   "language": "python",
   "name": "conda-base-py"
  },
  "language_info": {
   "codemirror_mode": {
    "name": "ipython",
    "version": 3
   },
   "file_extension": ".py",
   "mimetype": "text/x-python",
   "name": "python",
   "nbconvert_exporter": "python",
   "pygments_lexer": "ipython3",
   "version": "3.12.2"
  }
 },
 "nbformat": 4,
 "nbformat_minor": 5
}

{
 "cells": [
  {
   "cell_type": "code",
   "execution_count": 1,
   "id": "0b59db15-44dc-4170-b613-716ab8af3aff",
   "metadata": {},
   "outputs": [],
   "source": [
    "import numpy as np\n",
    "import cupy as cp"
   ]
  },
  {
   "cell_type": "code",
   "execution_count": 2,
   "id": "8290fc04-e7df-4479-8194-35454d6f53bb",
   "metadata": {},
   "outputs": [],
   "source": [
    "# It is trickier to time GPU kernels, because they behave asynchronously w.r.t the host\n",
    "# With CuPy, the CUDA API can be accessed to time the kernels\n",
    "def benchmark(func, args, n_repeat=10, n_warmup=0):\n",
    "    import time\n",
    "    start_gpu = cp.cuda.Event()\n",
    "    end_gpu = cp.cuda.Event()\n",
    "    for i in range(n_warmup):\n",
    "        out = func(*args)\n",
    "\n",
    "    start_gpu.record()\n",
    "    for i in range(n_repeat):\n",
    "        out = func(*args)\n",
    "\n",
    "    end_gpu.record()\n",
    "    end_gpu.synchronize()\n",
    "    t_gpu = cp.cuda.get_elapsed_time(start_gpu, end_gpu)\n",
    "    print('Average GPU time (ms): ', t_gpu / n_repeat)\n",
    "    return t_gpu / n_repeat"
   ]
  },
  {
   "cell_type": "code",
   "execution_count": 3,
   "id": "16676065-a272-4ffa-9f8f-bee91fdd5c57",
   "metadata": {},
   "outputs": [],
   "source": [
    "# A simple function to calculate the sum of two arrays\n",
    "def sum_arrays(a, b):\n",
    "    return a + b"
   ]
  },
  {
   "cell_type": "code",
   "execution_count": 4,
   "id": "52c84a61-d2b6-479e-9c49-b918081d1fcc",
   "metadata": {},
   "outputs": [],
   "source": [
    "# Generate two arrays on the CPU\n",
    "x = np.random.uniform(size=100)\n",
    "y = np.random.uniform(size=100)"
   ]
  },
  {
   "cell_type": "code",
   "execution_count": 5,
   "id": "d045bf33-4148-4b4d-ab13-806afaf5b32b",
   "metadata": {},
   "outputs": [
    {
     "name": "stdout",
     "output_type": "stream",
     "text": [
      "235 ns ± 0.113 ns per loop (mean ± std. dev. of 7 runs, 1,000,000 loops each)\n"
     ]
    }
   ],
   "source": [
    "cpu_time = %timeit -o sum_arrays(x, y)"
   ]
  },
  {
   "cell_type": "code",
   "execution_count": 6,
   "id": "124ad625-8b11-487c-8636-0a6813c0acc5",
   "metadata": {},
   "outputs": [
    {
     "name": "stdout",
     "output_type": "stream",
     "text": [
      "Average GPU time (ms):  0.0056649726867675785\n"
     ]
    }
   ],
   "source": [
    "gpu_time = benchmark(sum_arrays, (cp.asarray(x), cp.asarray(y)), n_repeat=10000)"
   ]
  },
  {
   "cell_type": "code",
   "execution_count": 7,
   "id": "9c02a3ff-f1bc-4b11-9ebf-bdd806c5eb1f",
   "metadata": {},
   "outputs": [
    {
     "name": "stdout",
     "output_type": "stream",
     "text": [
      "Speedup from GPU to CPU: 24.0691924556409\n",
      "Speedup from CPU to GPU: 0.041546886204968554\n"
     ]
    }
   ],
   "source": [
    "speedup = cpu_time.average / (gpu_time / 1000)\n",
    "print(\"Speedup from GPU to CPU:\", 1 / speedup)\n",
    "print(\"Speedup from CPU to GPU:\", speedup)"
   ]
  },
  {
   "cell_type": "markdown",
   "id": "f3f72d78-b422-4cd3-8502-ab2d53f59d5d",
   "metadata": {},
   "source": [
    "**The GPU operation is much slower? Why?**\n",
    " \n",
    "* Input size: Is the input size large enough to keep the GPU cores busy?\n",
    "* Arithmetic intensity: Is the computation heavy enough, and does it involve math operations?\n",
    "* Datatype length: GPU hardware is usually way less efficient ( 2x to 25x) in running float64 operations than it is in running float32 operations.\n",
    "* Memory transfer: Data transfer to GPU is included in the timing. But sometimes it's possible to minimize data transfers by keeping data on the GPU.\n",
    "\n",
    "**Lets try again!**"
   ]
  },
  {
   "cell_type": "code",
   "execution_count": 8,
   "id": "ec418a99-debe-49be-95ca-8889910cac44",
   "metadata": {},
   "outputs": [],
   "source": [
    "# Let's define a more complex function using trigonometric functions\n",
    "def foo_cpu(x, y, a):\n",
    "    return np.exp(a * np.sin(x) + np.cos(y))\n",
    "\n",
    "# And the same for the GPU with CuPy\n",
    "def foo_gpu(x, y, a):\n",
    "    return cp.exp(a * cp.sin(x) + cp.cos(y))"
   ]
  },
  {
   "cell_type": "code",
   "execution_count": 9,
   "id": "ee968cd7-8c31-4638-b024-538b46869d6f",
   "metadata": {},
   "outputs": [],
   "source": [
    "# Let's create new arrays with a bigger size and float32 instead of float64.\n",
    "x = np.random.uniform(size=10000000).astype(np.float32)\n",
    "y = np.random.uniform(size=10000000).astype(np.float32)\n",
    "a = 0.5\n",
    "\n",
    "# This time we initialize x_gpu and y_gpu before calling the function\n",
    "x_gpu = cp.asarray(x)\n",
    "y_gpu = cp.asarray(y)"
   ]
  },
  {
   "cell_type": "code",
   "execution_count": 10,
   "id": "dc00873a-95d0-4cd0-8b8d-0cfaa65fe837",
   "metadata": {},
   "outputs": [
    {
     "name": "stdout",
     "output_type": "stream",
     "text": [
      "41.8 ms ± 58.9 μs per loop (mean ± std. dev. of 7 runs, 10 loops each)\n"
     ]
    }
   ],
   "source": [
    "cpu_time = %timeit -o foo_cpu(x, y, a)"
   ]
  },
  {
   "cell_type": "code",
   "execution_count": 11,
   "id": "3965c7bb-0992-48d4-8312-7061e720c07c",
   "metadata": {},
   "outputs": [
    {
     "name": "stdout",
     "output_type": "stream",
     "text": [
      "Average GPU time (ms):  1.2199140625\n"
     ]
    }
   ],
   "source": [
    "gpu_time = benchmark(foo_gpu, (x_gpu,y_gpu,a), n_repeat=1000)"
   ]
  },
  {
   "cell_type": "code",
   "execution_count": 12,
   "id": "480b6df5-878f-4ec5-b6d3-b4a8aadb04eb",
   "metadata": {},
   "outputs": [
    {
     "name": "stdout",
     "output_type": "stream",
     "text": [
      "Speedup from CPU to GPU: 34.297884288175226\n"
     ]
    }
   ],
   "source": [
    "speedup = cpu_time.average / (gpu_time / 1000)\n",
    "print(\"Speedup from CPU to GPU:\", speedup)"
   ]
  },
  {
   "cell_type": "markdown",
   "id": "027af571-3ad8-4093-97e6-66a90424e5b7",
   "metadata": {},
   "source": [
    "**Much better!**\n",
    "How did we address the points?\n",
    "* Input size: Arrays with 10 million elements instead of 100\n",
    "* Arithmetic intensity: Computing exponentials, sines and cosines are way more intensive than a simple sum\n",
    "* Datatype length: float32 numbers instead of float64 make a big difference in GPUs\n",
    "* Memory transfer: Memory transfer done before calling GPU functions"
   ]
  }
 ],
 "metadata": {
  "kernelspec": {
   "display_name": "Python [conda env:base] *",
   "language": "python",
   "name": "conda-base-py"
  },
  "language_info": {
   "codemirror_mode": {
    "name": "ipython",
    "version": 3
   },
   "file_extension": ".py",
   "mimetype": "text/x-python",
   "name": "python",
   "nbconvert_exporter": "python",
   "pygments_lexer": "ipython3",
   "version": "3.12.2"
  }
 },
 "nbformat": 4,
 "nbformat_minor": 5
}
